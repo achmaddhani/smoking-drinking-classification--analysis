{
 "cells": [
  {
   "cell_type": "markdown",
   "id": "f5b5363f-bcb6-4b54-a4e1-7e8a998e6a28",
   "metadata": {},
   "source": [
    "# Introduction"
   ]
  },
  {
   "cell_type": "markdown",
   "id": "edb36107-65e0-4548-a9e3-36e8b482171d",
   "metadata": {},
   "source": [
    "Achmad Dhani\n",
    "\n",
    "Objective: Creating a data inference to test the models"
   ]
  },
  {
   "cell_type": "markdown",
   "id": "6cc351ca-769b-43ae-be13-de6b9ecd626d",
   "metadata": {},
   "source": [
    "# Libraries"
   ]
  },
  {
   "cell_type": "code",
   "execution_count": 1,
   "id": "11d55c00-f4f9-44ac-a1da-b41955fe836b",
   "metadata": {},
   "outputs": [],
   "source": [
    "import pandas as pd\n",
    "import joblib"
   ]
  },
  {
   "cell_type": "markdown",
   "id": "306aafa0-f3bb-45d4-9e33-00c7daaaa3f8",
   "metadata": {},
   "source": [
    "# Data Inference Smoking"
   ]
  },
  {
   "cell_type": "code",
   "execution_count": 21,
   "id": "9e9dfc98-262f-43df-b0e0-f8176e652599",
   "metadata": {},
   "outputs": [],
   "source": [
    "model_smoke = joblib.load('best_model_smoke.joblib')\n",
    "smoke_feature= joblib.load('feature_smoke.joblib')"
   ]
  },
  {
   "cell_type": "code",
   "execution_count": 15,
   "id": "b1a6bf4e-dfca-4684-b987-078c51a099f2",
   "metadata": {},
   "outputs": [],
   "source": [
    "data= {\n",
    "    \"sex\": [1,2],\n",
    "    \"age\": [35, 28],\n",
    "    \"height\": [175, 160],\n",
    "    \"weight\": [80, 65],\n",
    "    \"waistline\": [80, 80],\n",
    "    \"sight_left\": [1.2, 1.5],\n",
    "    \"sight_right\": [1.0, 1.5],\n",
    "    \"hear_left\": [1,2], \n",
    "    \"hear_right\": [1, 1.5],  \n",
    "    \"sbp\": [120, 115],\n",
    "    \"dbp\": [80, 75],\n",
    "    \"blds\": [90, 85],\n",
    "    \"tot_chole\": [190, 195],\n",
    "    \"hdl_chole\": [45, 55],\n",
    "    \"ldl_chole\": [110, 120],\n",
    "    \"triglyceride\": [150, 130],\n",
    "    \"hemoglobin\": [14.0, 13.5],\n",
    "    \"urine_protein\": [1, 2],\n",
    "    \"serum_creatinine\": [0.9, 0.8],\n",
    "    \"sgot_ast\": [25, 30],\n",
    "    \"sgot_alt\": [30, 35],\n",
    "    \"gamma_gtp\": [40, 35],\n",
    "    \"drk_yn\": [1, 0]\n",
    "}\n",
    "data_inf_smoke= pd.DataFrame(data)"
   ]
  },
  {
   "cell_type": "code",
   "execution_count": 22,
   "id": "13192618-7589-4538-b042-1d44736209e9",
   "metadata": {},
   "outputs": [],
   "source": [
    "X_smoke= data_inf_smoke[smoke_feature]"
   ]
  },
  {
   "cell_type": "code",
   "execution_count": 29,
   "id": "3a6a5180-9614-4b9d-84ae-066b3412dfdc",
   "metadata": {},
   "outputs": [],
   "source": [
    "result_smoke= model_smoke.predict(X)"
   ]
  },
  {
   "cell_type": "code",
   "execution_count": 30,
   "id": "6e01b329-f1ea-42fe-80d1-f73c9d0952ad",
   "metadata": {},
   "outputs": [
    {
     "name": "stdout",
     "output_type": "stream",
     "text": [
      "Person 1 is STILL SMOKING\n",
      "Person 2 NEVER SMOKE\n"
     ]
    }
   ],
   "source": [
    "for index, x in enumerate(result_smoke, 1):\n",
    "    if x == 1:\n",
    "        print(f'Person {index} NEVER SMOKE')\n",
    "    elif x == 2:\n",
    "        print(f'Person {index} USED TO SMOKE')\n",
    "    else:\n",
    "        print(f'Person {index} is STILL SMOKING')"
   ]
  },
  {
   "cell_type": "markdown",
   "id": "d0715314-13be-488c-ace4-60f1fbc97778",
   "metadata": {},
   "source": [
    "# Data Inference Drinking"
   ]
  },
  {
   "cell_type": "code",
   "execution_count": 26,
   "id": "969aa878-2fa7-40e3-baa9-90c6350a7d60",
   "metadata": {},
   "outputs": [],
   "source": [
    "model_drink = joblib.load('best_model_drink.joblib')\n",
    "drink_feature= joblib.load('feature_drink.joblib')"
   ]
  },
  {
   "cell_type": "code",
   "execution_count": 76,
   "id": "e239ab91-7e57-4465-8cbf-35fb27d771ac",
   "metadata": {},
   "outputs": [],
   "source": [
    "data= {\n",
    "    \"sex\": [1,2],\n",
    "    \"age\": [60, 30],\n",
    "    \"height\": [175, 160],\n",
    "    \"weight\": [60, 90],\n",
    "    \"waistline\": [75, 100],\n",
    "    \"sight_left\": [1.0, 1.5],\n",
    "    \"sight_right\": [1.0, 1.5],\n",
    "    \"hear_left\": [1,2], \n",
    "    \"hear_right\": [1, 1.5],  \n",
    "    \"sbp\": [120, 115],\n",
    "    \"dbp\": [80, 75],\n",
    "    \"blds\": [90, 85],\n",
    "    \"tot_chole\": [160, 195],\n",
    "    \"hdl_chole\": [45, 55],\n",
    "    \"ldl_chole\": [80, 120],\n",
    "    \"triglyceride\": [150, 130],\n",
    "    \"hemoglobin\": [14.0, 50],\n",
    "    \"urine_protein\": [2, 4],\n",
    "    \"serum_creatinine\": [0.9, 0.8],\n",
    "    \"sgot_ast\": [25, 30],\n",
    "    \"sgot_alt\": [30, 35],\n",
    "    \"gamma_gtp\": [20, 50],\n",
    "    \"smoke_type\": [1, 3]\n",
    "}\n",
    "data_inf_drink= pd.DataFrame(data)"
   ]
  },
  {
   "cell_type": "code",
   "execution_count": 77,
   "id": "c1ef72d8-2234-4575-bc81-2a0899dae2dd",
   "metadata": {},
   "outputs": [],
   "source": [
    "X_drink= data_inf_drink[drink_feature]"
   ]
  },
  {
   "cell_type": "code",
   "execution_count": 78,
   "id": "ef770c32-9382-4457-b3ee-f1fc196944ab",
   "metadata": {},
   "outputs": [],
   "source": [
    "result_drink= model_drink.predict(X_drink)"
   ]
  },
  {
   "cell_type": "code",
   "execution_count": 81,
   "id": "479504b7-16bd-49f6-b9fe-2a9cd24772e7",
   "metadata": {},
   "outputs": [
    {
     "name": "stdout",
     "output_type": "stream",
     "text": [
      "Person 1 DO NOT DRINK\n",
      "Person 2 DRINKS\n"
     ]
    }
   ],
   "source": [
    "for index, y in enumerate(result_drink, 1):\n",
    "    if y == 0:\n",
    "        print(f'Person {index} DO NOT DRINK')\n",
    "    else:\n",
    "        print(f'Person {index} DRINKS')"
   ]
  }
 ],
 "metadata": {
  "kernelspec": {
   "display_name": "Python 3 (ipykernel)",
   "language": "python",
   "name": "python3"
  },
  "language_info": {
   "codemirror_mode": {
    "name": "ipython",
    "version": 3
   },
   "file_extension": ".py",
   "mimetype": "text/x-python",
   "name": "python",
   "nbconvert_exporter": "python",
   "pygments_lexer": "ipython3",
   "version": "3.11.4"
  }
 },
 "nbformat": 4,
 "nbformat_minor": 5
}
